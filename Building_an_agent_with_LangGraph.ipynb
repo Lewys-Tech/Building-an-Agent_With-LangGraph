{
  "metadata": {
    "kernelspec": {
      "name": "python3",
      "display_name": "Python 3",
      "language": "python"
    },
    "language_info": {
      "name": "python",
      "version": "3.10.14",
      "mimetype": "text/x-python",
      "codemirror_mode": {
        "name": "ipython",
        "version": 3
      },
      "pygments_lexer": "ipython3",
      "nbconvert_exporter": "python",
      "file_extension": ".py"
    },
    "colab": {
      "provenance": [],
      "include_colab_link": true
    },
    "kaggle": {
      "accelerator": "none",
      "dataSources": [],
      "dockerImageVersionId": 30786,
      "isInternetEnabled": true,
      "language": "python",
      "sourceType": "notebook",
      "isGpuEnabled": false
    }
  },
  "nbformat_minor": 0,
  "nbformat": 4,
  "cells": [
    {
      "cell_type": "markdown",
      "metadata": {
        "id": "view-in-github",
        "colab_type": "text"
      },
      "source": [
        "<a href=\"https://colab.research.google.com/github/Lewys-Tech/Building-an-Agent_With-LangGraph/blob/main/Building_an_agent_with_LangGraph.ipynb\" target=\"_parent\"><img src=\"https://colab.research.google.com/assets/colab-badge.svg\" alt=\"Open In Colab\"/></a>"
      ]
    },
    {
      "cell_type": "markdown",
      "source": [
        "##### Copyright 2025 Google LLC."
      ],
      "metadata": {
        "id": "b6e13eef3f5d"
      }
    },
    {
      "cell_type": "code",
      "source": [
        "# @title Licensed under the Apache License, Version 2.0 (the \"License\");\n",
        "# you may not use this file except in compliance with the License.\n",
        "# You may obtain a copy of the License at\n",
        "#\n",
        "# https://www.apache.org/licenses/LICENSE-2.0\n",
        "#\n",
        "# Unless required by applicable law or agreed to in writing, software\n",
        "# distributed under the License is distributed on an \"AS IS\" BASIS,\n",
        "# WITHOUT WARRANTIES OR CONDITIONS OF ANY KIND, either express or implied.\n",
        "# See the License for the specific language governing permissions and\n",
        "# limitations under the License."
      ],
      "metadata": {
        "cellView": "form",
        "id": "d6597b11df14",
        "jupyter": {
          "source_hidden": true
        },
        "trusted": true,
        "execution": {
          "iopub.status.busy": "2025-04-01T07:59:55.528895Z",
          "iopub.execute_input": "2025-04-01T07:59:55.529312Z",
          "iopub.status.idle": "2025-04-01T07:59:55.534256Z",
          "shell.execute_reply.started": "2025-04-01T07:59:55.529274Z",
          "shell.execute_reply": "2025-04-01T07:59:55.533089Z"
        }
      },
      "outputs": [],
      "execution_count": null
    },
    {
      "cell_type": "markdown",
      "source": [
        "# Day 3 - Building an agent with LangGraph and the Gemini API\n",
        "\n",
        "Welcome back to the Kaggle 5-day Generative AI course!\n",
        "\n",
        "In this notebook, you will use [LangGraph](https://www.langchain.com/langgraph) to define a stateful graph-based application built on top of the Gemini API.\n",
        "\n",
        "You will build a simulated cafe ordering system, called BaristaBot. It will provide a looping chat interface to customers where they can order cafe beverages using natural language, and you will build nodes to represent the cafe's live menu and the \"back room\" ordering system.\n",
        "\n",
        "BaristaBot is used in other Gemini API demos, so if you are looking to explore something with a more minimal implementation, check out the [BaristaBot function calling example](https://github.com/google-gemini/cookbook/blob/main/examples/Agents_Function_Calling_Barista_Bot.ipynb) that implements a similar system using only the Gemini API Python SDK and function calling.\n",
        "\n",
        "## **IMPORTANT!**\n",
        "\n",
        "The app built in this notebook takes **user input** using a **text box** ([Python's `input`](https://docs.python.org/3/library/functions.html#input)). These are commented-out to ensure that you can use the `Run all` feature without interruption. Keep an eye out for the steps where you need to uncomment the `.invoke(...)` calls in order to interact with the app.\n",
        "\n",
        "If you wish to save a version of this notebook with `Save and Run all`, you will need to **re-comment** the lines you commented-out to ensure that the notebook can run without human input.\n",
        "\n",
        "## For help\n",
        "\n",
        "**Common issues are covered in the [FAQ and troubleshooting guide](https://www.kaggle.com/code/markishere/day-0-troubleshooting-and-faqs).**"
      ],
      "metadata": {
        "id": "KDnGropl9aiH"
      }
    },
    {
      "cell_type": "markdown",
      "source": [
        "## Get set up\n",
        "\n",
        "Start by installing and importing the LangGraph SDK and LangChain support for the Gemini API."
      ],
      "metadata": {
        "id": "aKMOcAKnGBPL"
      }
    },
    {
      "cell_type": "code",
      "source": [
        "# Remove conflicting packages from the Kaggle base environment.\n",
        "!pip uninstall -qqy kfp jupyterlab libpysal thinc spacy fastai ydata-profiling google-cloud-bigquery google-generativeai\n",
        "# Install langgraph and the packages used in this lab.\n",
        "!pip install -qU 'langgraph==0.3.21' 'langchain-google-genai==2.1.2' 'langgraph-prebuilt==0.1.7'"
      ],
      "metadata": {
        "id": "04fZ8d37ifOS",
        "trusted": true,
        "execution": {
          "iopub.status.busy": "2025-04-03T03:20:49.381741Z",
          "iopub.execute_input": "2025-04-03T03:20:49.382305Z",
          "iopub.status.idle": "2025-04-03T03:21:36.896509Z",
          "shell.execute_reply.started": "2025-04-03T03:20:49.38226Z",
          "shell.execute_reply": "2025-04-03T03:21:36.894943Z"
        },
        "outputId": "3bb8e070-17ba-425d-cb74-4742bd389e6f",
        "colab": {
          "base_uri": "https://localhost:8080/"
        }
      },
      "outputs": [
        {
          "output_type": "stream",
          "name": "stdout",
          "text": [
            "\u001b[33mWARNING: Skipping kfp as it is not installed.\u001b[0m\u001b[33m\n",
            "\u001b[0m\u001b[33mWARNING: Skipping jupyterlab as it is not installed.\u001b[0m\u001b[33m\n",
            "\u001b[0m\u001b[33mWARNING: Skipping libpysal as it is not installed.\u001b[0m\u001b[33m\n",
            "\u001b[0m\u001b[33mWARNING: Skipping ydata-profiling as it is not installed.\u001b[0m\u001b[33m\n",
            "\u001b[2K     \u001b[90m━━━━━━━━━━━━━━━━━━━━━━━━━━━━━━━━━━━━━━━━\u001b[0m \u001b[32m43.5/43.5 kB\u001b[0m \u001b[31m2.9 MB/s\u001b[0m eta \u001b[36m0:00:00\u001b[0m\n",
            "\u001b[2K   \u001b[90m━━━━━━━━━━━━━━━━━━━━━━━━━━━━━━━━━━━━━━━━\u001b[0m \u001b[32m138.0/138.0 kB\u001b[0m \u001b[31m10.3 MB/s\u001b[0m eta \u001b[36m0:00:00\u001b[0m\n",
            "\u001b[2K   \u001b[90m━━━━━━━━━━━━━━━━━━━━━━━━━━━━━━━━━━━━━━━━\u001b[0m \u001b[32m42.0/42.0 kB\u001b[0m \u001b[31m3.3 MB/s\u001b[0m eta \u001b[36m0:00:00\u001b[0m\n",
            "\u001b[2K   \u001b[90m━━━━━━━━━━━━━━━━━━━━━━━━━━━━━━━━━━━━━━━━\u001b[0m \u001b[32m1.4/1.4 MB\u001b[0m \u001b[31m62.5 MB/s\u001b[0m eta \u001b[36m0:00:00\u001b[0m\n",
            "\u001b[2K   \u001b[90m━━━━━━━━━━━━━━━━━━━━━━━━━━━━━━━━━━━━━━━━\u001b[0m \u001b[32m42.3/42.3 kB\u001b[0m \u001b[31m3.2 MB/s\u001b[0m eta \u001b[36m0:00:00\u001b[0m\n",
            "\u001b[2K   \u001b[90m━━━━━━━━━━━━━━━━━━━━━━━━━━━━━━━━━━━━━━━━\u001b[0m \u001b[32m47.3/47.3 kB\u001b[0m \u001b[31m3.3 MB/s\u001b[0m eta \u001b[36m0:00:00\u001b[0m\n",
            "\u001b[2K   \u001b[90m━━━━━━━━━━━━━━━━━━━━━━━━━━━━━━━━━━━━━━━━\u001b[0m \u001b[32m194.8/194.8 kB\u001b[0m \u001b[31m16.5 MB/s\u001b[0m eta \u001b[36m0:00:00\u001b[0m\n",
            "\u001b[2K   \u001b[90m━━━━━━━━━━━━━━━━━━━━━━━━━━━━━━━━━━━━━━━━\u001b[0m \u001b[32m223.6/223.6 kB\u001b[0m \u001b[31m18.9 MB/s\u001b[0m eta \u001b[36m0:00:00\u001b[0m\n",
            "\u001b[?25h"
          ]
        }
      ],
      "execution_count": 2
    },
    {
      "cell_type": "markdown",
      "source": [
        "### Set up your API key\n",
        "\n",
        "The `GOOGLE_API_KEY` environment variable can be set to automatically configure the underlying API. This works for both the official Gemini Python SDK and for LangChain/LangGraph.\n",
        "\n",
        "To run the following cell, your API key must be stored it in a [Kaggle secret](https://www.kaggle.com/discussions/product-feedback/114053) named `GOOGLE_API_KEY`.\n",
        "\n",
        "If you don't already have an API key, you can grab one from [AI Studio](https://aistudio.google.com/app/apikey). You can find [detailed instructions in the docs](https://ai.google.dev/gemini-api/docs/api-key).\n",
        "\n",
        "To make the key available through Kaggle secrets, choose `Secrets` from the `Add-ons` menu and follow the instructions to add your key or enable it for this notebook."
      ],
      "metadata": {
        "id": "GecNc73VGfpk"
      }
    },
    {
      "cell_type": "code",
      "source": [
        "import os\n",
        "from google.colab import userdata\n",
        "\n",
        "GOOGLE_API_KEY = userdata.get(\"GOOGLE_API_KEY\")\n",
        "os.environ[\"GOOGLE_API_KEY\"] = GOOGLE_API_KEY"
      ],
      "metadata": {
        "id": "xaiioUQni_ga",
        "execution": {
          "iopub.status.busy": "2025-04-03T03:20:49.056476Z",
          "iopub.execute_input": "2025-04-03T03:20:49.056932Z",
          "iopub.status.idle": "2025-04-03T03:20:49.379857Z",
          "shell.execute_reply.started": "2025-04-03T03:20:49.056871Z",
          "shell.execute_reply": "2025-04-03T03:20:49.378643Z"
        },
        "trusted": true
      },
      "outputs": [],
      "execution_count": 3
    },
    {
      "cell_type": "markdown",
      "source": [
        "If you received an error response along the lines of `No user secrets exist for kernel id ...`, then you need to add your API key via `Add-ons`, `Secrets` **and** enable it.\n",
        "\n",
        "![Screenshot of the checkbox to enable GOOGLE_API_KEY secret](https://storage.googleapis.com/kaggle-media/Images/5gdai_sc_3.png)"
      ],
      "metadata": {
        "id": "e67a91692d36"
      }
    },
    {
      "cell_type": "markdown",
      "source": [
        "## Key concepts\n",
        "\n",
        "LangGraph applications are built around a **graph** structure. As the developer, you define an application graph that models the state transitions for your application. Your app will define a **state** schema, and an instance of that schema is propagated through the graph.\n",
        "\n",
        "Each **node** in the graph represents an action or step that can be taken. Nodes will make changes to the state in some way through code that you define. These changes can be the result of invoking an LLM, by calling an API, or executing any logic that the node defines.\n",
        "\n",
        "Each **edge** in the graph represents a transition between states, defining the flow of the program. Edge transitions can be fixed, for example if you define a text-only chatbot where output is always displayed to a user, you may always transition from `chatbot -> user`. The transitions can also be conditional, allowing you to add branching (like an `if-else` statement) or looping (like `for` or `while` loops).\n",
        "\n",
        "LangGraph is highly extensible and provides a number of features that are not part of this tutorial, such as memory, persistance and streaming. To better understand the key concepts and philophies behind LangGraph, check out their [Conceptual guides](https://langchain-ai.github.io/langgraph/concepts/) and [High-level overview](https://langchain-ai.github.io/langgraph/concepts/high_level/)."
      ],
      "metadata": {
        "jp-MarkdownHeadingCollapsed": true,
        "id": "MQWc47RdsLQF"
      }
    },
    {
      "cell_type": "markdown",
      "source": [
        "## Define core instructions\n",
        "\n",
        "State is a fundamental concept for a LangGraph app. A state object is passed between every node and transition in the app. Here you define a state object, `OrderState`, that holds the conversation history, a structured order, and a flag indicating if the customer has finished placing their order. For simplicity, the \"structure\" in this order is just a list of strings, but this can be expanded to any Python data structure.\n",
        "\n",
        "In Python, the LangGraph state object is a Python [dictionary](https://docs.python.org/3/library/stdtypes.html#dict). You can provide a schema for this dictionary by defining it as a [`TypedDict`](https://docs.python.org/3/library/typing.html#typing.TypedDict).\n",
        "\n",
        "Here you also define the system instruction that the Gemini model will use. You can capture tone and style here, as well as the playbook under which the chatbot should operate."
      ],
      "metadata": {
        "id": "IGShelaFLKP0"
      }
    },
    {
      "cell_type": "code",
      "source": [
        "from typing import Annotated\n",
        "from typing_extensions import TypedDict\n",
        "\n",
        "from langgraph.graph.message import add_messages\n",
        "\n",
        "\n",
        "class OrderState(TypedDict):\n",
        "    \"\"\"State representing the customer's order conversation.\"\"\"\n",
        "\n",
        "    # The chat conversation. This preserves the conversation history\n",
        "    # between nodes. The `add_messages` annotation indicates to LangGraph\n",
        "    # that state is updated by appending returned messages, not replacing\n",
        "    # them.\n",
        "    messages: Annotated[list, add_messages]\n",
        "\n",
        "    # The customer's in-progress order.\n",
        "    order: list[str]\n",
        "\n",
        "    # Flag indicating that the order is placed and completed.\n",
        "    finished: bool\n",
        "\n",
        "\n",
        "# The system instruction defines how the chatbot is expected to behave and includes\n",
        "# rules for when to call different functions, as well as rules for the conversation, such\n",
        "# as tone and what is permitted for discussion.\n",
        "BARISTABOT_SYSINT = (\n",
        "    \"system\",  # 'system' indicates the message is a system instruction.\n",
        "    \"You are a BaristaBot, an interactive cafe ordering system. A human will talk to you about the \"\n",
        "    \"available products you have and you will answer any questions about menu items (and only about \"\n",
        "    \"menu items - no off-topic discussion, but you can chat about the products and their history). \"\n",
        "    \"The customer will place an order for 1 or more items from the menu, which you will structure \"\n",
        "    \"and send to the ordering system after confirming the order with the human. \"\n",
        "    \"\\n\\n\"\n",
        "    \"Add items to the customer's order with add_to_order, and reset the order with clear_order. \"\n",
        "    \"To see the contents of the order so far, call get_order (this is shown to you, not the user) \"\n",
        "    \"Always confirm_order with the user (double-check) before calling place_order. Calling confirm_order will \"\n",
        "    \"display the order items to the user and returns their response to seeing the list. Their response may contain modifications. \"\n",
        "    \"Always verify and respond with drink and modifier names from the MENU before adding them to the order. \"\n",
        "    \"If you are unsure a drink or modifier matches those on the MENU, ask a question to clarify or redirect. \"\n",
        "    \"You only have the modifiers listed on the menu. \"\n",
        "    \"Once the customer has finished ordering items, Call confirm_order to ensure it is correct then make \"\n",
        "    \"any necessary updates and then call place_order. Once place_order has returned, thank the user and \"\n",
        "    \"say goodbye!\"\n",
        "    \"\\n\\n\"\n",
        "    \"If any of the tools are unavailable, you can break the fourth wall and tell the user that \"\n",
        "    \"they have not implemented them yet and should keep reading to do so.\",\n",
        ")\n",
        "\n",
        "# This is the message with which the system opens the conversation.\n",
        "WELCOME_MSG = \"Welcome to the BaristaBot cafe. Type `q` to quit. How may I serve you today?\""
      ],
      "metadata": {
        "id": "2RJQRlfVjqkJ",
        "execution": {
          "iopub.status.busy": "2025-04-03T03:21:48.104982Z",
          "iopub.execute_input": "2025-04-03T03:21:48.106371Z",
          "iopub.status.idle": "2025-04-03T03:21:49.430043Z",
          "shell.execute_reply.started": "2025-04-03T03:21:48.106308Z",
          "shell.execute_reply": "2025-04-03T03:21:49.428868Z"
        },
        "trusted": true
      },
      "outputs": [],
      "execution_count": 4
    },
    {
      "cell_type": "markdown",
      "source": [
        "## Define a single turn chatboot\n",
        "\n",
        "To illustrate how LangGraph works, the following program defines a chatbot node that will execute a single turn in a chat conversation using the instructions supplied.\n",
        "\n",
        "Each node in the graph operates on the state object. The state (a Python dictionary) is passed as a parameter into the node (a function) and the new state is returned. This can be restated as pseudo-code, where `state = node(state)`.\n",
        "\n",
        "Note: For the `chatbot` node, the state is updated by *adding* the new conversation message. The `add_messages` annotation on `OrderState.messages` indicates that messages are *appended* when returned from a node. Typically state is updated by replacement, but this annotation causes `messages` to behave differently."
      ],
      "metadata": {
        "id": "PHkDsSI_NUp7"
      }
    },
    {
      "cell_type": "code",
      "source": [
        "from langgraph.graph import StateGraph, START, END\n",
        "from langchain_google_genai import ChatGoogleGenerativeAI\n",
        "\n",
        "# Try using different models. The Gemini 2.0 flash model is highly\n",
        "# capable, great with tools, and has a generous free tier. If you\n",
        "# try the older 1.5 models, note that the `pro` models are better at\n",
        "# complex multi-tool cases like this, but the `flash` models are\n",
        "# faster and have more free quota.\n",
        "# Check out the features and quota differences here:\n",
        "#  - https://ai.google.dev/gemini-api/docs/models/gemini\n",
        "llm = ChatGoogleGenerativeAI(model=\"gemini-2.0-flash\")\n",
        "\n",
        "\n",
        "def chatbot(state: OrderState) -> OrderState:\n",
        "    \"\"\"The chatbot itself. A simple wrapper around the model's own chat interface.\"\"\"\n",
        "    message_history = [BARISTABOT_SYSINT] + state[\"messages\"]\n",
        "    return {\"messages\": [llm.invoke(message_history)]}\n",
        "\n",
        "\n",
        "# Set up the initial graph based on our state definition.\n",
        "graph_builder = StateGraph(OrderState)\n",
        "\n",
        "# Add the chatbot function to the app graph as a node called \"chatbot\".\n",
        "graph_builder.add_node(\"chatbot\", chatbot)\n",
        "\n",
        "# Define the chatbot node as the app entrypoint.\n",
        "graph_builder.add_edge(START, \"chatbot\")\n",
        "\n",
        "chat_graph = graph_builder.compile()"
      ],
      "metadata": {
        "id": "Y359hoepjv6i",
        "execution": {
          "iopub.status.busy": "2025-04-03T03:21:52.32815Z",
          "iopub.execute_input": "2025-04-03T03:21:52.328703Z",
          "iopub.status.idle": "2025-04-03T03:21:53.460259Z",
          "shell.execute_reply.started": "2025-04-03T03:21:52.328666Z",
          "shell.execute_reply": "2025-04-03T03:21:53.459107Z"
        },
        "trusted": true
      },
      "outputs": [],
      "execution_count": 5
    },
    {
      "cell_type": "markdown",
      "source": [
        "It can be helpful to visualise the graph you just defined. The following code renders the graph."
      ],
      "metadata": {
        "id": "T796a7eMJIjB"
      }
    },
    {
      "cell_type": "code",
      "source": [
        "from IPython.display import Image, display\n",
        "\n",
        "Image(chat_graph.get_graph().draw_mermaid_png())"
      ],
      "metadata": {
        "id": "JP4vPWb1kPhG",
        "execution": {
          "iopub.status.busy": "2025-04-03T03:21:53.545009Z",
          "iopub.execute_input": "2025-04-03T03:21:53.546402Z",
          "iopub.status.idle": "2025-04-03T03:21:53.653545Z",
          "shell.execute_reply.started": "2025-04-03T03:21:53.546355Z",
          "shell.execute_reply": "2025-04-03T03:21:53.652332Z"
        },
        "trusted": true,
        "colab": {
          "base_uri": "https://localhost:8080/",
          "height": 151
        },
        "outputId": "75ee269c-23e8-4831-840c-5e448c52f9ea"
      },
      "outputs": [
        {
          "output_type": "execute_result",
          "data": {
            "image/png": "[encoded data removed]",
            "text/plain": [
              "<IPython.core.display.Image object>"
            ]
          },
          "metadata": {},
          "execution_count": 10
        }
      ],
      "execution_count": 10
    },
    {
      "cell_type": "markdown",
      "source": [
        "Now that the graph is defined, you can run it. It only has one node, and one transition into that node, so it will transition from `__start__` to `chatbot`, execute the `chatbot` node, and terminate.\n",
        "\n",
        "To run the graph, you call `invoke` and pass an initial state object. In this case it begins with the user's initial message."
      ],
      "metadata": {
        "id": "SZtG6b8vJTSl"
      }
    },
    {
      "cell_type": "code",
      "source": [
        "from pprint import pprint\n",
        "\n",
        "user_msg = \"Hello, what can you do?\"\n",
        "state = chat_graph.invoke({\"messages\": [user_msg]})\n",
        "\n",
        "# The state object contains lots of information. Uncomment the pprint lines to see it all.\n",
        "# pprint(state)\n",
        "\n",
        "# Note that the final state now has 2 messages. Our HumanMessage, and an additional AIMessage.\n",
        "for msg in state[\"messages\"]:\n",
        "    print(f\"{type(msg).__name__}: {msg.content}\")"
      ],
      "metadata": {
        "id": "swkexnSoO3RU",
        "execution": {
          "iopub.status.busy": "2025-04-03T03:22:10.719994Z",
          "iopub.execute_input": "2025-04-03T03:22:10.720462Z",
          "iopub.status.idle": "2025-04-03T03:22:11.743171Z",
          "shell.execute_reply.started": "2025-04-03T03:22:10.720422Z",
          "shell.execute_reply": "2025-04-03T03:22:11.741917Z"
        },
        "trusted": true,
        "colab": {
          "base_uri": "https://localhost:8080/"
        },
        "outputId": "9d46e2bb-313d-4eea-d95c-c3e49e74c03d"
      },
      "outputs": [
        {
          "output_type": "stream",
          "name": "stdout",
          "text": [
            "HumanMessage: Hello, what can you do?\n",
            "AIMessage: Hi there! I'm BaristaBot, your friendly cafe ordering system. I can tell you about our menu items, answer questions, and take your order. What are you in the mood for today?\n"
          ]
        }
      ],
      "execution_count": 12
    },
    {
      "cell_type": "markdown",
      "source": [
        "You could execute this in a Python loop, but for simplicity, manually invoke one more conversational turn. This second invocation takes the state from the first call and appends another user message to elicit another response from the chatbot."
      ],
      "metadata": {
        "id": "dsczQNk9PVlJ"
      }
    },
    {
      "cell_type": "code",
      "source": [
        "user_msg = \"Oh great, what kinds of latte can you make?\"\n",
        "\n",
        "state[\"messages\"].append(user_msg)\n",
        "state = chat_graph.invoke(state)\n",
        "\n",
        "# pprint(state)\n",
        "for msg in state[\"messages\"]:\n",
        "    print(f\"{type(msg).__name__}: {msg.content}\")"
      ],
      "metadata": {
        "id": "OKGonO42Pe43",
        "execution": {
          "iopub.status.busy": "2025-04-03T03:22:15.434942Z",
          "iopub.execute_input": "2025-04-03T03:22:15.435367Z",
          "iopub.status.idle": "2025-04-03T03:22:16.479191Z",
          "shell.execute_reply.started": "2025-04-03T03:22:15.435331Z",
          "shell.execute_reply": "2025-04-03T03:22:16.478092Z"
        },
        "trusted": true,
        "colab": {
          "base_uri": "https://localhost:8080/"
        },
        "outputId": "f9dc42d3-90b9-4965-f38d-778432e99af5"
      },
      "outputs": [
        {
          "output_type": "stream",
          "name": "stdout",
          "text": [
            "HumanMessage: Hello, what can you do?\n",
            "AIMessage: Hi there! I'm BaristaBot, your friendly cafe ordering system. I can tell you about our menu items, answer questions, and take your order. What are you in the mood for today?\n",
            "HumanMessage: Oh great, what kinds of latte can you make?\n",
            "AIMessage: We have a few delicious latte options:\n",
            "\n",
            "*   **Latte:** Our classic espresso and steamed milk latte.\n",
            "*   **Vanilla Latte:** A latte with a hint of sweet vanilla.\n",
            "*   **Caramel Latte:** A latte with rich caramel flavor.\n",
            "*   **Mocha Latte:** A chocolate-lover's dream, with espresso, steamed milk, and chocolate syrup.\n",
            "\n",
            "Are any of those tempting?\n"
          ]
        }
      ],
      "execution_count": 13
    },
    {
      "cell_type": "markdown",
      "source": [
        "## Add a human node\n",
        "\n",
        "Instead of repeatedly running the \"graph\" in a Python loop, you can use LangGraph to loop between nodes.\n",
        "\n",
        "The `human` node will display the last message from the LLM to the user, and then prompt them for their next input. Here this is done using standard Python `print` and `input` functions, but for a real cafe situation, you could render the chat to a display or audio, and accept input from a mic or on-screen keyboard.\n",
        "\n",
        "The `chatbot` node function has also been updated to include the welcome message to start the conversation."
      ],
      "metadata": {
        "id": "v4oN47R89Rx-"
      }
    },
    {
      "cell_type": "code",
      "source": [
        "from langchain_core.messages.ai import AIMessage\n",
        "\n",
        "\n",
        "def human_node(state: OrderState) -> OrderState:\n",
        "    \"\"\"Display the last model message to the user, and receive the user's input.\"\"\"\n",
        "    last_msg = state[\"messages\"][-1]\n",
        "    print(\"Model:\", last_msg.content)\n",
        "\n",
        "    user_input = input(\"User: \")\n",
        "\n",
        "    # If it looks like the user is trying to quit, flag the conversation\n",
        "    # as over.\n",
        "    if user_input in {\"q\", \"quit\", \"exit\", \"goodbye\"}:\n",
        "        state[\"finished\"] = True\n",
        "\n",
        "    return state | {\"messages\": [(\"user\", user_input)]}\n",
        "\n",
        "\n",
        "def chatbot_with_welcome_msg(state: OrderState) -> OrderState:\n",
        "    \"\"\"The chatbot itself. A wrapper around the model's own chat interface.\"\"\"\n",
        "\n",
        "    if state[\"messages\"]:\n",
        "        # If there are messages, continue the conversation with the Gemini model.\n",
        "        new_output = llm.invoke([BARISTABOT_SYSINT] + state[\"messages\"])\n",
        "    else:\n",
        "        # If there are no messages, start with the welcome message.\n",
        "        new_output = AIMessage(content=WELCOME_MSG)\n",
        "\n",
        "    return state | {\"messages\": [new_output]}\n",
        "\n",
        "\n",
        "# Start building a new graph.\n",
        "graph_builder = StateGraph(OrderState)\n",
        "\n",
        "# Add the chatbot and human nodes to the app graph.\n",
        "graph_builder.add_node(\"chatbot\", chatbot_with_welcome_msg)\n",
        "graph_builder.add_node(\"human\", human_node)\n",
        "\n",
        "# Start with the chatbot again.\n",
        "graph_builder.add_edge(START, \"chatbot\")\n",
        "\n",
        "# The chatbot will always go to the human next.\n",
        "graph_builder.add_edge(\"chatbot\", \"human\");"
      ],
      "metadata": {
        "id": "UtOpn68ospVj",
        "execution": {
          "iopub.status.busy": "2025-04-03T03:22:20.613178Z",
          "iopub.execute_input": "2025-04-03T03:22:20.613599Z",
          "iopub.status.idle": "2025-04-03T03:22:20.625365Z",
          "shell.execute_reply.started": "2025-04-03T03:22:20.613564Z",
          "shell.execute_reply": "2025-04-03T03:22:20.6241Z"
        },
        "trusted": true
      },
      "outputs": [],
      "execution_count": 14
    },
    {
      "cell_type": "markdown",
      "source": [
        "Before you can run this, note that if you added an edge from `human` back to `chatbot`, the graph will cycle forever as there is no exit condition. One way to break the cycle is to add a check for a human input like `q` or `quit` and use that to break the loop.\n",
        "\n",
        "In LangGraph, this is achieved with a conditional edge. This is similar to a regular graph transition, except a custom function is called to determine which edge to traverse.\n",
        "\n",
        "Conditional edge functions take the state as input, and return a string representing the name of the node to which it will transition."
      ],
      "metadata": {
        "id": "SWXwd1ITUSPF"
      }
    },
    {
      "cell_type": "code",
      "source": [
        "from typing import Literal\n",
        "\n",
        "\n",
        "def maybe_exit_human_node(state: OrderState) -> Literal[\"chatbot\", \"__end__\"]:\n",
        "    \"\"\"Route to the chatbot, unless it looks like the user is exiting.\"\"\"\n",
        "    if state.get(\"finished\", False):\n",
        "        return END\n",
        "    else:\n",
        "        return \"chatbot\"\n",
        "\n",
        "\n",
        "graph_builder.add_conditional_edges(\"human\", maybe_exit_human_node)\n",
        "\n",
        "chat_with_human_graph = graph_builder.compile()\n",
        "\n",
        "Image(chat_with_human_graph.get_graph().draw_mermaid_png())"
      ],
      "metadata": {
        "id": "6468OAgSU2He",
        "execution": {
          "iopub.status.busy": "2025-04-03T03:22:23.600317Z",
          "iopub.execute_input": "2025-04-03T03:22:23.600697Z",
          "iopub.status.idle": "2025-04-03T03:22:23.675087Z",
          "shell.execute_reply.started": "2025-04-03T03:22:23.600656Z",
          "shell.execute_reply": "2025-04-03T03:22:23.674016Z"
        },
        "trusted": true,
        "colab": {
          "base_uri": "https://localhost:8080/",
          "height": 350
        },
        "outputId": "4196967e-18ed-47a4-8826-c2bae0ae2fb1"
      },
      "outputs": [
        {
          "output_type": "execute_result",
          "data": {
            "image/png": "[encoded data removed]",
            "text/plain": [
              "<IPython.core.display.Image object>"
            ]
          },
          "metadata": {},
          "execution_count": 15
        }
      ],
      "execution_count": 15
    },
    {
      "cell_type": "markdown",
      "source": [
        "Run this new graph to see how the interaction loop is now captured within the graph. Input `quit` to exit the program.\n",
        "\n",
        "**You must uncomment the `.invoke(...)` line to run this step.**"
      ],
      "metadata": {
        "id": "yrQI6-3FS_op"
      }
    },
    {
      "cell_type": "code",
      "source": [
        "# The default recursion limit for traversing nodes is 25 - setting it higher means\n",
        "# you can try a more complex order with multiple steps and round-trips (and you\n",
        "# can chat for longer!)\n",
        "config = {\"recursion_limit\": 100}\n",
        "\n",
        "# Remember that this will loop forever, unless you input `q`, `quit` or one of the\n",
        "# other exit terms defined in `human_node`.\n",
        "# Uncomment this line to execute the graph:\n",
        "# state = chat_with_human_graph.invoke({\"messages\": []}, config)\n",
        "\n",
        "# Things to try:\n",
        "#  - Just chat! There's no ordering or menu yet.\n",
        "#  - 'q' to exit.\n",
        "\n",
        "# pprint(state)"
      ],
      "metadata": {
        "id": "udGNmyasTGJG",
        "execution": {
          "iopub.status.busy": "2025-04-03T03:22:30.34216Z",
          "iopub.execute_input": "2025-04-03T03:22:30.34259Z",
          "iopub.status.idle": "2025-04-03T03:22:39.806014Z",
          "shell.execute_reply.started": "2025-04-03T03:22:30.342553Z",
          "shell.execute_reply": "2025-04-03T03:22:39.804784Z"
        },
        "trusted": true
      },
      "outputs": [],
      "execution_count": 16
    },
    {
      "cell_type": "markdown",
      "source": [
        "## Add a \"live\" menu\n",
        "\n",
        "BaristaBot currently has no awareness of the available items at the cafe, so it will hallucinate a menu. One option would be to hard-code a menu into the system prompt. This would work well, but to simulate a system where the menu is more dynamic and could respond to fluctuating stock levels, you will put the menu into a custom tool.\n",
        "\n",
        "There are two types of tools that this system will use. Stateless tools that can be run automatically, and stateful tools that modify the order. The \"get current menu\" tool is stateless, in that it does not make any changes to the live order, so it can be called automatically.\n",
        "\n",
        "In a LangGraph app, you can annotate Python functions as tools by applying the `@tools` annotation.\n",
        "\n"
      ],
      "metadata": {
        "id": "iwDFpJreW66e"
      }
    },
    {
      "cell_type": "code",
      "source": [
        "from langchain_core.tools import tool\n",
        "\n",
        "\n",
        "@tool\n",
        "def get_menu() -> str:\n",
        "    \"\"\"Provide the latest up-to-date menu.\"\"\"\n",
        "    # Note that this is just hard-coded text, but you could connect this to a live stock\n",
        "    # database, or you could use Gemini's multi-modal capabilities and take live photos of\n",
        "    # your cafe's chalk menu or the products on the counter and assmble them into an input.\n",
        "\n",
        "    return \"\"\"\n",
        "    MENU:\n",
        "    Coffee Drinks:\n",
        "    Espresso\n",
        "    Americano\n",
        "    Cold Brew\n",
        "\n",
        "    Coffee Drinks with Milk:\n",
        "    Latte\n",
        "    Cappuccino\n",
        "    Cortado\n",
        "    Macchiato\n",
        "    Mocha\n",
        "    Flat White\n",
        "\n",
        "    Tea Drinks:\n",
        "    English Breakfast Tea\n",
        "    Green Tea\n",
        "    Earl Grey\n",
        "\n",
        "    Tea Drinks with Milk:\n",
        "    Chai Latte\n",
        "    Matcha Latte\n",
        "    London Fog\n",
        "\n",
        "    Other Drinks:\n",
        "    Steamer\n",
        "    Hot Chocolate\n",
        "\n",
        "    Modifiers:\n",
        "    Milk options: Whole, 2%, Oat, Almond, 2% Lactose Free; Default option: whole\n",
        "    Espresso shots: Single, Double, Triple, Quadruple; default: Double\n",
        "    Caffeine: Decaf, Regular; default: Regular\n",
        "    Hot-Iced: Hot, Iced; Default: Hot\n",
        "    Sweeteners (option to add one or more): vanilla sweetener, hazelnut sweetener, caramel sauce, chocolate sauce, sugar free vanilla sweetener\n",
        "    Special requests: any reasonable modification that does not involve items not on the menu, for example: 'extra hot', 'one pump', 'half caff', 'extra foam', etc.\n",
        "\n",
        "    \"dirty\" means add a shot of espresso to a drink that doesn't usually have it, like \"Dirty Chai Latte\".\n",
        "    \"Regular milk\" is the same as 'whole milk'.\n",
        "    \"Sweetened\" means add some regular sugar, not a sweetener.\n",
        "\n",
        "    Soy milk has run out of stock today, so soy is not available.\n",
        "  \"\"\""
      ],
      "metadata": {
        "id": "hG1n6mNFHsYW",
        "execution": {
          "iopub.status.busy": "2025-04-03T03:22:45.416893Z",
          "iopub.execute_input": "2025-04-03T03:22:45.417431Z",
          "iopub.status.idle": "2025-04-03T03:22:45.431725Z",
          "shell.execute_reply.started": "2025-04-03T03:22:45.417374Z",
          "shell.execute_reply": "2025-04-03T03:22:45.430324Z"
        },
        "trusted": true
      },
      "outputs": [],
      "execution_count": 17
    },
    {
      "cell_type": "markdown",
      "source": [
        "Now add the new tool to the graph. The `get_menu` tool is wrapped in a [`ToolNode`](https://langchain-ai.github.io/langgraph/reference/prebuilt/#toolnode) that handles calling the tool and passing the response as a message through the graph. The tools are also bound to the `llm` object so that the underlying model knows they exist. As you now have a different `llm` object to invoke, you need to update the `chatbot` node so that it is aware of the tools.\n"
      ],
      "metadata": {
        "id": "W82wDfAH-RMU"
      }
    },
    {
      "cell_type": "code",
      "source": [
        "from langgraph.prebuilt import ToolNode\n",
        "\n",
        "\n",
        "# Define the tools and create a \"tools\" node.\n",
        "tools = [get_menu]\n",
        "tool_node = ToolNode(tools)\n",
        "\n",
        "# Attach the tools to the model so that it knows what it can call.\n",
        "llm_with_tools = llm.bind_tools(tools)\n",
        "\n",
        "\n",
        "def maybe_route_to_tools(state: OrderState) -> Literal[\"tools\", \"human\"]:\n",
        "    \"\"\"Route between human or tool nodes, depending if a tool call is made.\"\"\"\n",
        "    if not (msgs := state.get(\"messages\", [])):\n",
        "        raise ValueError(f\"No messages found when parsing state: {state}\")\n",
        "\n",
        "    # Only route based on the last message.\n",
        "    msg = msgs[-1]\n",
        "\n",
        "    # When the chatbot returns tool_calls, route to the \"tools\" node.\n",
        "    if hasattr(msg, \"tool_calls\") and len(msg.tool_calls) > 0:\n",
        "        return \"tools\"\n",
        "    else:\n",
        "        return \"human\"\n",
        "\n",
        "\n",
        "def chatbot_with_tools(state: OrderState) -> OrderState:\n",
        "    \"\"\"The chatbot with tools. A simple wrapper around the model's own chat interface.\"\"\"\n",
        "    defaults = {\"order\": [], \"finished\": False}\n",
        "\n",
        "    if state[\"messages\"]:\n",
        "        new_output = llm_with_tools.invoke([BARISTABOT_SYSINT] + state[\"messages\"])\n",
        "    else:\n",
        "        new_output = AIMessage(content=WELCOME_MSG)\n",
        "\n",
        "    # Set up some defaults if not already set, then pass through the provided state,\n",
        "    # overriding only the \"messages\" field.\n",
        "    return defaults | state | {\"messages\": [new_output]}\n",
        "\n",
        "\n",
        "graph_builder = StateGraph(OrderState)\n",
        "\n",
        "# Add the nodes, including the new tool_node.\n",
        "graph_builder.add_node(\"chatbot\", chatbot_with_tools)\n",
        "graph_builder.add_node(\"human\", human_node)\n",
        "graph_builder.add_node(\"tools\", tool_node)\n",
        "\n",
        "# Chatbot may go to tools, or human.\n",
        "graph_builder.add_conditional_edges(\"chatbot\", maybe_route_to_tools)\n",
        "# Human may go back to chatbot, or exit.\n",
        "graph_builder.add_conditional_edges(\"human\", maybe_exit_human_node)\n",
        "\n",
        "# Tools always route back to chat afterwards.\n",
        "graph_builder.add_edge(\"tools\", \"chatbot\")\n",
        "\n",
        "graph_builder.add_edge(START, \"chatbot\")\n",
        "graph_with_menu = graph_builder.compile()\n",
        "\n",
        "Image(graph_with_menu.get_graph().draw_mermaid_png())"
      ],
      "metadata": {
        "id": "KJVZGC2TlKqj",
        "execution": {
          "iopub.status.busy": "2025-04-03T03:22:49.660236Z",
          "iopub.execute_input": "2025-04-03T03:22:49.660632Z",
          "iopub.status.idle": "2025-04-03T03:22:49.759324Z",
          "shell.execute_reply.started": "2025-04-03T03:22:49.660597Z",
          "shell.execute_reply": "2025-04-03T03:22:49.758101Z"
        },
        "trusted": true,
        "colab": {
          "base_uri": "https://localhost:8080/",
          "height": 350
        },
        "outputId": "b1b47629-758b-44ce-dff6-7c2473fd04d7"
      },
      "outputs": [
        {
          "output_type": "execute_result",
          "data": {
            "image/png": "[encoded data removed]",
            "text/plain": [
              "<IPython.core.display.Image object>"
            ]
          },
          "metadata": {},
          "execution_count": 18
        }
      ],
      "execution_count": 18
    },
    {
      "cell_type": "markdown",
      "source": [
        "Now run the new graph to see how the model uses the menu.\n",
        "\n",
        "**You must uncomment the `.invoke(...)` line to run this step.**"
      ],
      "metadata": {
        "id": "kbFdxxWdauzz"
      }
    },
    {
      "cell_type": "code",
      "source": [
        "# Remember that you have not implemented ordering yet, so this will loop forever,\n",
        "# unless you input `q`, `quit` or one of the other exit terms defined in the\n",
        "# `human_node`.\n",
        "# Uncomment this line to execute the graph:\n",
        "# state = graph_with_menu.invoke({\"messages\": []}, config)\n",
        "\n",
        "# Things to try:\n",
        "# - I'd love an espresso drink, what have you got?\n",
        "# - What teas do you have?\n",
        "# - Can you do a long black? (this is on the menu as an \"Americano\" - see if it can\n",
        "#   figure it out)\n",
        "# - 'q' to exit.\n",
        "\n",
        "\n",
        "# pprint(state)"
      ],
      "metadata": {
        "id": "wcsVkMAApBGu",
        "execution": {
          "iopub.status.busy": "2025-04-03T03:22:56.997801Z",
          "iopub.execute_input": "2025-04-03T03:22:56.998267Z",
          "iopub.status.idle": "2025-04-03T03:23:20.462404Z",
          "shell.execute_reply.started": "2025-04-03T03:22:56.998226Z",
          "shell.execute_reply": "2025-04-03T03:23:20.461172Z"
        },
        "trusted": true
      },
      "outputs": [],
      "execution_count": 19
    },
    {
      "cell_type": "markdown",
      "source": [
        "## Handle orders\n",
        "\n",
        "To build up an order during the chat conversation, you will need to update the state to track the order, and provide simple tools that update this state. These need to be explicit as the model should not directly have access to the apps internal state, or it risks being manipulated arbitrarily.\n",
        "\n",
        "The ordering tools will be added as stubs in a separate node so that you can edit the state directly. Using the `@tool` annotation is still a handy way to define their schema, so the ordering tools below are implemented as empty Python functions."
      ],
      "metadata": {
        "id": "ikO4M2fZDkyx"
      }
    },
    {
      "cell_type": "code",
      "source": [
        "from collections.abc import Iterable\n",
        "from random import randint\n",
        "\n",
        "from langchain_core.messages.tool import ToolMessage\n",
        "\n",
        "# These functions have no body; LangGraph does not allow @tools to update\n",
        "# the conversation state, so you will implement a separate node to handle\n",
        "# state updates. Using @tools is still very convenient for defining the tool\n",
        "# schema, so empty functions have been defined that will be bound to the LLM\n",
        "# but their implementation is deferred to the order_node.\n",
        "\n",
        "\n",
        "@tool\n",
        "def add_to_order(drink: str, modifiers: Iterable[str]) -> str:\n",
        "    \"\"\"Adds the specified drink to the customer's order, including any modifiers.\n",
        "\n",
        "    Returns:\n",
        "      The updated order in progress.\n",
        "    \"\"\"\n",
        "\n",
        "\n",
        "@tool\n",
        "def confirm_order() -> str:\n",
        "    \"\"\"Asks the customer if the order is correct.\n",
        "\n",
        "    Returns:\n",
        "      The user's free-text response.\n",
        "    \"\"\"\n",
        "\n",
        "\n",
        "@tool\n",
        "def get_order() -> str:\n",
        "    \"\"\"Returns the users order so far. One item per line.\"\"\"\n",
        "\n",
        "\n",
        "@tool\n",
        "def clear_order():\n",
        "    \"\"\"Removes all items from the user's order.\"\"\"\n",
        "\n",
        "\n",
        "@tool\n",
        "def place_order() -> int:\n",
        "    \"\"\"Sends the order to the barista for fulfillment.\n",
        "\n",
        "    Returns:\n",
        "      The estimated number of minutes until the order is ready.\n",
        "    \"\"\"\n",
        "\n",
        "\n",
        "def order_node(state: OrderState) -> OrderState:\n",
        "    \"\"\"The ordering node. This is where the order state is manipulated.\"\"\"\n",
        "    tool_msg = state.get(\"messages\", [])[-1]\n",
        "    order = state.get(\"order\", [])\n",
        "    outbound_msgs = []\n",
        "    order_placed = False\n",
        "\n",
        "    for tool_call in tool_msg.tool_calls:\n",
        "\n",
        "        if tool_call[\"name\"] == \"add_to_order\":\n",
        "\n",
        "            # Each order item is just a string. This is where it assembled as \"drink (modifiers, ...)\".\n",
        "            modifiers = tool_call[\"args\"][\"modifiers\"]\n",
        "            modifier_str = \", \".join(modifiers) if modifiers else \"no modifiers\"\n",
        "\n",
        "            order.append(f'{tool_call[\"args\"][\"drink\"]} ({modifier_str})')\n",
        "            response = \"\\n\".join(order)\n",
        "\n",
        "        elif tool_call[\"name\"] == \"confirm_order\":\n",
        "\n",
        "            # We could entrust the LLM to do order confirmation, but it is a good practice to\n",
        "            # show the user the exact data that comprises their order so that what they confirm\n",
        "            # precisely matches the order that goes to the kitchen - avoiding hallucination\n",
        "            # or reality skew.\n",
        "\n",
        "            # In a real scenario, this is where you would connect your POS screen to show the\n",
        "            # order to the user.\n",
        "\n",
        "            print(\"Your order:\")\n",
        "            if not order:\n",
        "                print(\"  (no items)\")\n",
        "\n",
        "            for drink in order:\n",
        "                print(f\"  {drink}\")\n",
        "\n",
        "            response = input(\"Is this correct? \")\n",
        "\n",
        "        elif tool_call[\"name\"] == \"get_order\":\n",
        "\n",
        "            response = \"\\n\".join(order) if order else \"(no order)\"\n",
        "\n",
        "        elif tool_call[\"name\"] == \"clear_order\":\n",
        "\n",
        "            order.clear()\n",
        "            response = None\n",
        "\n",
        "        elif tool_call[\"name\"] == \"place_order\":\n",
        "\n",
        "            order_text = \"\\n\".join(order)\n",
        "            print(\"Sending order to kitchen!\")\n",
        "            print(order_text)\n",
        "\n",
        "            # TODO(you!): Implement cafe.\n",
        "            order_placed = True\n",
        "            response = randint(1, 5)  # ETA in minutes\n",
        "\n",
        "        else:\n",
        "            raise NotImplementedError(f'Unknown tool call: {tool_call[\"name\"]}')\n",
        "\n",
        "        # Record the tool results as tool messages.\n",
        "        outbound_msgs.append(\n",
        "            ToolMessage(\n",
        "                content=response,\n",
        "                name=tool_call[\"name\"],\n",
        "                tool_call_id=tool_call[\"id\"],\n",
        "            )\n",
        "        )\n",
        "\n",
        "    return {\"messages\": outbound_msgs, \"order\": order, \"finished\": order_placed}\n",
        "\n",
        "\n",
        "def maybe_route_to_tools(state: OrderState) -> str:\n",
        "    \"\"\"Route between chat and tool nodes if a tool call is made.\"\"\"\n",
        "    if not (msgs := state.get(\"messages\", [])):\n",
        "        raise ValueError(f\"No messages found when parsing state: {state}\")\n",
        "\n",
        "    msg = msgs[-1]\n",
        "\n",
        "    if state.get(\"finished\", False):\n",
        "        # When an order is placed, exit the app. The system instruction indicates\n",
        "        # that the chatbot should say thanks and goodbye at this point, so we can exit\n",
        "        # cleanly.\n",
        "        return END\n",
        "\n",
        "    elif hasattr(msg, \"tool_calls\") and len(msg.tool_calls) > 0:\n",
        "        # Route to `tools` node for any automated tool calls first.\n",
        "        if any(\n",
        "            tool[\"name\"] in tool_node.tools_by_name.keys() for tool in msg.tool_calls\n",
        "        ):\n",
        "            return \"tools\"\n",
        "        else:\n",
        "            return \"ordering\"\n",
        "\n",
        "    else:\n",
        "        return \"human\""
      ],
      "metadata": {
        "id": "jqsLovPBQe0I",
        "execution": {
          "iopub.status.busy": "2025-04-03T03:23:27.310253Z",
          "iopub.execute_input": "2025-04-03T03:23:27.310672Z",
          "iopub.status.idle": "2025-04-03T03:23:27.346944Z",
          "shell.execute_reply.started": "2025-04-03T03:23:27.310635Z",
          "shell.execute_reply": "2025-04-03T03:23:27.345751Z"
        },
        "trusted": true
      },
      "outputs": [],
      "execution_count": 20
    },
    {
      "cell_type": "markdown",
      "source": [
        "Now define the graph. The LLM needs to know about the tools too, so that it can invoke them. Here you set up 2 sets of tools corresponding to the nodes under which they operate: automated and ordering."
      ],
      "metadata": {
        "id": "UzfKW3lkxtS_"
      }
    },
    {
      "cell_type": "code",
      "source": [
        "# Auto-tools will be invoked automatically by the ToolNode\n",
        "auto_tools = [get_menu]\n",
        "tool_node = ToolNode(auto_tools)\n",
        "\n",
        "# Order-tools will be handled by the order node.\n",
        "order_tools = [add_to_order, confirm_order, get_order, clear_order, place_order]\n",
        "\n",
        "# The LLM needs to know about all of the tools, so specify everything here.\n",
        "llm_with_tools = llm.bind_tools(auto_tools + order_tools)\n",
        "\n",
        "\n",
        "graph_builder = StateGraph(OrderState)\n",
        "\n",
        "# Nodes\n",
        "graph_builder.add_node(\"chatbot\", chatbot_with_tools)\n",
        "graph_builder.add_node(\"human\", human_node)\n",
        "graph_builder.add_node(\"tools\", tool_node)\n",
        "graph_builder.add_node(\"ordering\", order_node)\n",
        "\n",
        "# Chatbot -> {ordering, tools, human, END}\n",
        "graph_builder.add_conditional_edges(\"chatbot\", maybe_route_to_tools)\n",
        "# Human -> {chatbot, END}\n",
        "graph_builder.add_conditional_edges(\"human\", maybe_exit_human_node)\n",
        "\n",
        "# Tools (both kinds) always route back to chat afterwards.\n",
        "graph_builder.add_edge(\"tools\", \"chatbot\")\n",
        "graph_builder.add_edge(\"ordering\", \"chatbot\")\n",
        "\n",
        "graph_builder.add_edge(START, \"chatbot\")\n",
        "graph_with_order_tools = graph_builder.compile()\n",
        "\n",
        "Image(graph_with_order_tools.get_graph().draw_mermaid_png())"
      ],
      "metadata": {
        "id": "9rqkQzlZxrzp",
        "execution": {
          "iopub.status.busy": "2025-04-03T03:23:30.934271Z",
          "iopub.execute_input": "2025-04-03T03:23:30.934724Z",
          "iopub.status.idle": "2025-04-03T03:23:31.061548Z",
          "shell.execute_reply.started": "2025-04-03T03:23:30.934683Z",
          "shell.execute_reply": "2025-04-03T03:23:31.060287Z"
        },
        "trusted": true,
        "colab": {
          "base_uri": "https://localhost:8080/",
          "height": 350
        },
        "outputId": "2038fa20-2c65-4187-bf3b-5edc9c3c8569"
      },
      "outputs": [
        {
          "output_type": "execute_result",
          "data": {
            "image/png": "[encoded data removed]",
            "text/plain": [
              "<IPython.core.display.Image object>"
            ]
          },
          "metadata": {},
          "execution_count": 21
        }
      ],
      "execution_count": 21
    },
    {
      "cell_type": "markdown",
      "source": [
        "Now run the complete ordering system graph.\n",
        "\n",
        "**You must uncomment the `.invoke(...)` line to run this step.**"
      ],
      "metadata": {
        "id": "G0SVsDu4gD_T"
      }
    },
    {
      "cell_type": "code",
      "source": [
        "# Uncomment this line to execute the graph:\n",
        "# state = graph_with_order_tools.invoke({\"messages\": []}, config)\n",
        "\n",
        "# Things to try:\n",
        "# - Order a drink!\n",
        "# - Make a change to your order.\n",
        "# - \"Which teas are from England?\"\n",
        "# - Note that the graph should naturally exit after placing an order.\n",
        "\n",
        "# pprint(state)"
      ],
      "metadata": {
        "id": "NCRSgaBUfIHF",
        "execution": {
          "iopub.status.busy": "2025-04-03T03:23:38.175937Z",
          "iopub.execute_input": "2025-04-03T03:23:38.176336Z",
          "iopub.status.idle": "2025-04-03T03:24:17.03696Z",
          "shell.execute_reply.started": "2025-04-03T03:23:38.176303Z",
          "shell.execute_reply": "2025-04-03T03:24:17.035721Z"
        },
        "trusted": true
      },
      "outputs": [],
      "execution_count": 22
    },
    {
      "cell_type": "markdown",
      "source": [
        "The order state has been captured both in the `place_order` function and in the final conversational state returned from executing the graph. This iillustrates how you can integrate your own systems to a graph app, as well as collect the final results of executing such an app."
      ],
      "metadata": {
        "id": "8KM4-akgEVSZ"
      }
    },
    {
      "cell_type": "code",
      "source": [
        "# Uncomment this once you have run the graph from the previous cell.\n",
        "# pprint(state[\"order\"])"
      ],
      "metadata": {
        "id": "n4jUJCr3fJpy",
        "execution": {
          "iopub.status.busy": "2025-04-03T03:24:23.482128Z",
          "iopub.execute_input": "2025-04-03T03:24:23.482492Z",
          "iopub.status.idle": "2025-04-03T03:24:23.488201Z",
          "shell.execute_reply.started": "2025-04-03T03:24:23.482458Z",
          "shell.execute_reply": "2025-04-03T03:24:23.486912Z"
        },
        "trusted": true
      },
      "outputs": [],
      "execution_count": null
    },
    {
      "cell_type": "markdown",
      "source": [
        "## Further exercises\n",
        "\n",
        "Congratulations on building an agentic, human-in-the-loop, natural-language powered cafe ordering system using LangGraph and the Gemini API!\n",
        "\n",
        "This example app could be taken in many different directions. You should try and build out your own ideas, but for some inspiration, consider:\n",
        "\n",
        "* Adding more structure the order (`OrderState.order`) - e.g. separate fields for item, modifiers and even quantity.\n",
        "* Currently the model can only clear and re-add items, so add a function to `remove_item`s from the order.\n",
        "* Try building a UI that displays the in-progress order and hosts the chat. Frameworks like [Gradio](https://www.gradio.app/) or [Mesop](https://google.github.io/mesop/) are great for this.\n",
        "\n",
        "This system works well for a single person ordering, but agentic systems can interact with many sources. For a big stretch exercise, try and extend this app to run at a specific schedule, and contact your friends or colleagues over [Chat](https://developers.google.com/workspace/chat/api/reference/rest) to collect their daily coffee orders.\n",
        "\n",
        "*- [Mark McD](https://linktr.ee/markmcd)*"
      ],
      "metadata": {
        "id": "1BV4euQjRR4w",
        "jp-MarkdownHeadingCollapsed": true
      }
    }
  ]
}